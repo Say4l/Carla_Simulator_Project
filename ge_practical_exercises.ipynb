{
 "cells": [
  {
   "cell_type": "markdown",
   "id": "df75983d",
   "metadata": {
    "heading_collapsed": true
   },
   "source": [
    "# Connect to the CARLA server"
   ]
  },
  {
   "cell_type": "code",
   "execution_count": null,
   "id": "5e961b4e",
   "metadata": {
    "ExecuteTime": {
     "end_time": "2025-04-07T23:05:32.323703Z",
     "start_time": "2025-04-07T23:05:30.178945Z"
    },
    "hidden": true
   },
   "outputs": [],
   "source": [
    "import carla\n",
    "import random\n",
    "import time\n",
    "\n",
    "# Prerequisite: CARLA must already be running in the background\n",
    "client = carla.Client('localhost', 2000)\n",
    "client.set_timeout(10.0)  # seconds\n",
    "\n",
    "world = client.get_world()\n",
    "print(\"Connected to world:\", world.get_map().name)"
   ]
  },
  {
   "cell_type": "code",
   "execution_count": null,
   "id": "a5c176fe",
   "metadata": {
    "ExecuteTime": {
     "end_time": "2025-04-07T23:04:29.126622Z",
     "start_time": "2025-04-07T23:04:28.810620Z"
    },
    "collapsed": true,
    "hidden": true
   },
   "outputs": [],
   "source": [
    "# Display all available maps\n",
    "available_maps = client.get_available_maps()\n",
    "for i, map_name in enumerate(available_maps):\n",
    "    print(f\"{i+1}. {map_name}\")"
   ]
  },
  {
   "cell_type": "code",
   "execution_count": null,
   "id": "98f22354",
   "metadata": {
    "ExecuteTime": {
     "end_time": "2025-04-07T23:04:42.300477Z",
     "start_time": "2025-04-07T23:04:33.150480Z"
    },
    "hidden": true
   },
   "outputs": [],
   "source": [
    "# Warning: Changing the map takes a few seconds and resets the world\n",
    "client.load_world('/Game/Carla/Maps/Town01')"
   ]
  },
  {
   "cell_type": "code",
   "execution_count": null,
   "id": "d3861246",
   "metadata": {
    "ExecuteTime": {
     "end_time": "2025-04-07T23:05:34.524557Z",
     "start_time": "2025-04-07T23:05:34.455057Z"
    },
    "hidden": true
   },
   "outputs": [],
   "source": [
    "# Example: Spawn a Tesla Model 3 blueprint\n",
    "blueprint_library = world.get_blueprint_library()\n",
    "vehicle_bp = blueprint_library.find('vehicle.tesla.model3')\n",
    "spawn_points = world.get_map().get_spawn_points()\n",
    "vehicle = world.spawn_actor(vehicle_bp, random.choice(spawn_points))"
   ]
  },
  {
   "cell_type": "markdown",
   "id": "04f155f2",
   "metadata": {},
   "source": [
    "> 💡 **Small Task:** Find the spawned vehicle on the map.  \n",
    "> You can look around and move using the mouse and the WASD keys."
   ]
  },
  {
   "cell_type": "code",
   "execution_count": null,
   "id": "276f7dee",
   "metadata": {
    "ExecuteTime": {
     "end_time": "2025-04-07T23:09:12.831586Z",
     "start_time": "2025-04-07T23:09:12.814083Z"
    },
    "hidden": true
   },
   "outputs": [],
   "source": [
    "# Set weather conditions\n",
    "weather = carla.WeatherParameters.HardRainNight\n",
    "world.set_weather(weather)"
   ]
  },
  {
   "cell_type": "markdown",
   "id": "00abe06f",
   "metadata": {
    "heading_collapsed": true
   },
   "source": [
    "# Introduction to Pygame"
   ]
  },
  {
   "cell_type": "code",
   "execution_count": null,
   "id": "3fccaaee",
   "metadata": {
    "hidden": true
   },
   "outputs": [],
   "source": [
    "# Very Basic Pygame script that displays a blank white canvas\n",
    "import pygame\n",
    "\n",
    "# Initialize Pygame\n",
    "pygame.init()\n",
    "\n",
    "# Define window size\n",
    "WIDTH, HEIGHT = 800, 600\n",
    "screen = pygame.display.set_mode((WIDTH, HEIGHT))\n",
    "pygame.display.set_caption(\"White Canvas in Pygame\")\n",
    "\n",
    "# Background color (white)\n",
    "WHITE = (255, 255, 255)\n",
    "\n",
    "# Main loop\n",
    "running = True\n",
    "while running:\n",
    "    for event in pygame.event.get():\n",
    "        if event.type == pygame.QUIT:\n",
    "            running = False  # Exit when the window is closed\n",
    "    \n",
    "    # Fill the screen with white\n",
    "    screen.fill(WHITE)\n",
    "    \n",
    "    # Update the display\n",
    "    pygame.display.flip()\n",
    "\n",
    "# Quit Pygame\n",
    "pygame.quit()"
   ]
  },
  {
   "cell_type": "code",
   "execution_count": null,
   "id": "311a0288",
   "metadata": {},
   "outputs": [],
   "source": [
    "# Displaying a Car and a Person\n",
    "\n",
    "import pygame\n",
    "\n",
    "# Initialize Pygame\n",
    "pygame.init()\n",
    "\n",
    "# Define window size\n",
    "WIDTH, HEIGHT = 800, 600\n",
    "screen = pygame.display.set_mode((WIDTH, HEIGHT))\n",
    "pygame.display.set_caption(\"Car and Person on Canvas\")\n",
    "\n",
    "# Background color (white)\n",
    "WHITE = (255, 255, 255)\n",
    "\n",
    "# Load images (example images of a car and a person)\n",
    "car_img = pygame.image.load(\"media/car.png\")\n",
    "person_img = pygame.image.load(\"media/person.png\")\n",
    "\n",
    "# Optionally scale images to fit the window\n",
    "car_img = pygame.transform.scale(car_img, (300, 240))\n",
    "person_img = pygame.transform.scale(person_img, (300, 300))\n",
    "\n",
    "# Main loop\n",
    "running = True\n",
    "while running:\n",
    "    for event in pygame.event.get():\n",
    "        if event.type == pygame.QUIT:\n",
    "            running = False  # Exit when the window is closed\n",
    "        elif event.type == pygame.KEYDOWN and event.key == pygame.K_ESCAPE:\n",
    "            running = False  # Exit when ESC is pressed\n",
    "    \n",
    "    # Fill the screen with white\n",
    "    screen.fill(WHITE)\n",
    "    \n",
    "    # Draw images on the canvas\n",
    "    screen.blit(car_img, (200, 300))   # Car at position (200, 300)\n",
    "    screen.blit(person_img, (500, 300)) # Person at position (500, 300)\n",
    "    \n",
    "    # Update the display\n",
    "    pygame.display.flip()\n",
    "\n",
    "# Quit Pygame\n",
    "pygame.quit()\n"
   ]
  },
  {
   "cell_type": "markdown",
   "id": "71d8642c",
   "metadata": {},
   "source": [
    "# Introduction to YOLO"
   ]
  },
  {
   "cell_type": "code",
   "execution_count": null,
   "id": "9b365776",
   "metadata": {
    "ExecuteTime": {
     "end_time": "2025-04-07T23:43:41.215070Z",
     "start_time": "2025-04-07T23:43:29.463586Z"
    }
   },
   "outputs": [],
   "source": [
    "import cv2\n",
    "from ultralytics import YOLO\n",
    "\n",
    "# Load the YOLOv8 model (nano version for fast performance)\n",
    "model = YOLO('model/yolov8n.pt')\n",
    "image_path = 'media/car.png'\n",
    "image = cv2.imread(image_path)\n",
    "\n",
    "# Run object detection\n",
    "results = model(image)\n",
    "\n",
    "# Draw bounding boxes and labels on the image\n",
    "annotated_image = results[0].plot()\n",
    "\n",
    "# Display the result\n",
    "cv2.imshow('YOLOv8 Detection', annotated_image)\n",
    "cv2.waitKey(0)\n",
    "cv2.destroyAllWindows()"
   ]
  },
  {
   "cell_type": "code",
   "execution_count": null,
   "id": "570ea4a1",
   "metadata": {},
   "outputs": [],
   "source": [
    "import cv2\n",
    "from ultralytics import YOLO\n",
    "\n",
    "# Load YOLOv8 model (default is YOLOv8n = \"nano\" for good performance)\n",
    "model = YOLO('model/yolov8n.pt')\n",
    "\n",
    "# Open video stream (0 = webcam, or provide a file path)\n",
    "cap = cv2.VideoCapture(\"media/hamilton_clip.mp4\")"
   ]
  },
  {
   "cell_type": "code",
   "execution_count": null,
   "id": "bf0348f7",
   "metadata": {},
   "outputs": [],
   "source": [
    "while cap.isOpened():\n",
    "    success, frame = cap.read()\n",
    "    if not success:\n",
    "        print(\"No frame received. Stream ended.\")\n",
    "        break\n",
    "\n",
    "    # Run YOLO inference\n",
    "    results = model(frame, verbose=False)\n",
    "    annotated_frame = results[0].plot()\n",
    "\n",
    "    # Display the annotated frame\n",
    "    cv2.imshow(\"YOLO Object Detection\", annotated_frame)\n",
    "\n",
    "    # Press 'q' to quit\n",
    "    if cv2.waitKey(1) & 0xFF == ord('q'):\n",
    "        break\n",
    "\n",
    "cap.release()\n",
    "cv2.destroyAllWindows()\n"
   ]
  },
  {
   "cell_type": "markdown",
   "id": "e161a079",
   "metadata": {},
   "source": [
    "# Threaded Processing"
   ]
  },
  {
   "cell_type": "code",
   "execution_count": null,
   "id": "9a917613",
   "metadata": {},
   "outputs": [],
   "source": [
    "import threading\n",
    "import time\n",
    "import queue\n",
    "\n",
    "# Background task that processes data from the input queue\n",
    "def background_worker(input_queue, output_queue):\n",
    "    while True:\n",
    "        item = input_queue.get()\n",
    "        if item is None:\n",
    "            break  # Exit the thread if a termination signal is received\n",
    "        # Simulate some processing (e.g., image analysis)\n",
    "        processed = item.upper()  # Here, just convert text to uppercase\n",
    "        time.sleep(0.5)  # Simulate processing time\n",
    "        output_queue.put(processed)\n",
    "\n",
    "# Queues for thread-safe communication between main thread and worker\n",
    "input_queue = queue.Queue()\n",
    "output_queue = queue.Queue()\n",
    "\n",
    "# Start the background thread\n",
    "thread = threading.Thread(target=background_worker,args=(input_queue, output_queue))\n",
    "thread.start()\n",
    "\n",
    "# Main thread: generate and send data to the worker\n",
    "for i in range(5):\n",
    "    text = f\"message {i}\"\n",
    "    print(f\"[Main] Sending: {text}\")\n",
    "    input_queue.put(text)\n",
    "    time.sleep(0.2)  # Main thread is faster than the worker\n",
    "\n",
    "# Retrieve results from the output queue\n",
    "for _ in range(5):\n",
    "    result = output_queue.get()\n",
    "    print(f\"[Main] Received: {result}\")\n",
    "\n",
    "# Send termination signal and wait for thread to finish\n",
    "input_queue.put(None)\n",
    "thread.join()\n",
    "print(\"Thread finished.\")\n"
   ]
  },
  {
   "cell_type": "markdown",
   "id": "bf1ea73a",
   "metadata": {},
   "source": [
    "# TASK"
   ]
  },
  {
   "cell_type": "code",
   "execution_count": 3,
   "id": "79a407c4",
   "metadata": {},
   "outputs": [
    {
     "ename": "NameError",
     "evalue": "name 'cv2' is not defined",
     "output_type": "error",
     "traceback": [
      "\u001b[0;31m---------------------------------------------------------------------------\u001b[0m",
      "\u001b[0;31mNameError\u001b[0m                                 Traceback (most recent call last)",
      "Cell \u001b[0;32mIn[3], line 83\u001b[0m\n\u001b[1;32m     81\u001b[0m view \u001b[38;5;241m=\u001b[39m view\u001b[38;5;241m.\u001b[39mtranspose((\u001b[38;5;241m1\u001b[39m, \u001b[38;5;241m0\u001b[39m, \u001b[38;5;241m2\u001b[39m))  \u001b[38;5;66;03m# Change from (width, height, channels) to (height, width, channels)\u001b[39;00m\n\u001b[1;32m     82\u001b[0m \u001b[38;5;66;03m# Convert to BGR format\u001b[39;00m\n\u001b[0;32m---> 83\u001b[0m view \u001b[38;5;241m=\u001b[39m \u001b[43mcv2\u001b[49m\u001b[38;5;241m.\u001b[39mcvtColor(view, cv2\u001b[38;5;241m.\u001b[39mCOLOR_RGB2BGR)\n\u001b[1;32m     84\u001b[0m \u001b[38;5;66;03m# Display the image using OpenCV\u001b[39;00m\n\u001b[1;32m     85\u001b[0m cv2\u001b[38;5;241m.\u001b[39mimshow(\u001b[38;5;124m\"\u001b[39m\u001b[38;5;124mCarla View\u001b[39m\u001b[38;5;124m\"\u001b[39m, view)\n",
      "\u001b[0;31mNameError\u001b[0m: name 'cv2' is not defined"
     ]
    }
   ],
   "source": [
    "# Interactive Pygame Example: Drag and Move Car and Person with the Mouse\n",
    "import pygame\n",
    "\n",
    "pygame.init()\n",
    "\n",
    "# Define window size\n",
    "WIDTH, HEIGHT = 800, 600\n",
    "screen = pygame.display.set_mode((WIDTH, HEIGHT))\n",
    "pygame.display.set_caption(\"Car and Person on Canvas\")\n",
    "\n",
    "WHITE = (255, 255, 255)\n",
    "\n",
    "# Load and scale images\n",
    "car_img = pygame.image.load(\"media/car.png\")\n",
    "person_img = pygame.image.load(\"media/person.png\")\n",
    "car_img = pygame.transform.scale(car_img, (300, 240))\n",
    "person_img = pygame.transform.scale(person_img, (300, 300))\n",
    "\n",
    "# Starting positions of the images\n",
    "car_pos = [200, 300]\n",
    "person_pos = [500, 300]\n",
    "\n",
    "# Dragging state flags\n",
    "dragging_auto = False\n",
    "dragging_person = False\n",
    "offset_x = 0\n",
    "offset_y = 0\n",
    "\n",
    "# Main loop\n",
    "running = True\n",
    "while running:\n",
    "    for event in pygame.event.get():\n",
    "        if event.type == pygame.QUIT or (event.type == pygame.KEYDOWN and event.key == pygame.K_ESCAPE):\n",
    "            running = False\n",
    "\n",
    "        elif event.type == pygame.MOUSEBUTTONDOWN:\n",
    "            mouse_x, mouse_y = event.pos\n",
    "            # Check if mouse is over the car\n",
    "            if (car_pos[0] <= mouse_x <= car_pos[0] + car_img.get_width() and\n",
    "                car_pos[1] <= mouse_y <= car_pos[1] + car_img.get_height()):\n",
    "                dragging_auto = True\n",
    "                offset_x = mouse_x - car_pos[0]\n",
    "                offset_y = mouse_y - car_pos[1]\n",
    "            # Or over the person\n",
    "            elif (person_pos[0] <= mouse_x <= person_pos[0] + person_img.get_width() and\n",
    "                  person_pos[1] <= mouse_y <= person_pos[1] + person_img.get_height()):\n",
    "                dragging_person = True\n",
    "                offset_x = mouse_x - person_pos[0]\n",
    "                offset_y = mouse_y - person_pos[1]\n",
    "\n",
    "        elif event.type == pygame.MOUSEBUTTONUP:\n",
    "            dragging_auto = False\n",
    "            dragging_person = False\n",
    "\n",
    "        elif event.type == pygame.MOUSEMOTION:\n",
    "            if dragging_auto:\n",
    "                mouse_x, mouse_y = event.pos\n",
    "                car_pos[0] = mouse_x - offset_x\n",
    "                car_pos[1] = mouse_y - offset_y\n",
    "            elif dragging_person:\n",
    "                mouse_x, mouse_y = event.pos\n",
    "                person_pos[0] = mouse_x - offset_x\n",
    "                person_pos[1] = mouse_y - offset_y\n",
    "\n",
    "\n",
    "        \n",
    "\n",
    "\n",
    "\n",
    "                \n",
    "    # Draw canvas and images \n",
    "    screen.fill(WHITE)\n",
    "    screen.blit(car_img, car_pos)\n",
    "    screen.blit(person_img, person_pos)\n",
    "    pygame.display.flip()\n",
    "\n",
    "\n",
    "surface_to_draw = pygame.Surface((WIDTH, HEIGHT))\n",
    "view = pygame.surfarray.array3d(surface_to_draw)\n",
    "# Convert to OpenCV format\n",
    "view = view.transpose((1, 0, 2))  # Change from (width, height, channels) to (height, width, channes)\n",
    "# Convert to BGR format\n",
    "view = cv2.cvtColor(view, cv2.COLOR_RGB2BGR)\n",
    "# Display the image using OpenCV\n",
    "cv2.imshow(\"Carla View\", view)\n",
    "# Update the display\n",
    "pygame.display.flip()\n",
    "\n",
    "\n",
    "\n",
    "\n",
    "pygame.quit()"
   ]
  },
  {
   "cell_type": "markdown",
   "id": "481cd9b8",
   "metadata": {},
   "source": [
    "### 🧠 Task: Use OpenCV with YOLO on a Pygame Display\n",
    "\n",
    "> Modify the Pygame script above to achieve the following:\n",
    "- Capture the current Pygame display as an image\n",
    "- Convert it to a format compatible with OpenCV\n",
    "- Apply YOLO object detection to each frame\n",
    "- Display the annotated result in real time using OpenCV"
   ]
  }
 ],
 "metadata": {
  "hide_input": false,
  "kernelspec": {
   "display_name": "Python 3",
   "language": "python",
   "name": "python3"
  },
  "language_info": {
   "codemirror_mode": {
    "name": "ipython",
    "version": 3
   },
   "file_extension": ".py",
   "mimetype": "text/x-python",
   "name": "python",
   "nbconvert_exporter": "python",
   "pygments_lexer": "ipython3",
   "version": "3.13.0"
  },
  "toc": {
   "base_numbering": 1,
   "nav_menu": {},
   "number_sections": true,
   "sideBar": true,
   "skip_h1_title": false,
   "title_cell": "Table of Contents",
   "title_sidebar": "Contents",
   "toc_cell": false,
   "toc_position": {
    "height": "calc(100% - 180px)",
    "left": "10px",
    "top": "150px",
    "width": "321.883px"
   },
   "toc_section_display": true,
   "toc_window_display": true
  }
 },
 "nbformat": 4,
 "nbformat_minor": 5
}
